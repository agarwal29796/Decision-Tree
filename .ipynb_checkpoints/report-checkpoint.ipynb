{
 "cells": [
  {
   "cell_type": "markdown",
   "metadata": {},
   "source": [
    "# Assignment1\n",
    "submitted by - Archit Kumar 2018201051"
   ]
  },
  {
   "cell_type": "markdown",
   "metadata": {},
   "source": [
    "## Question 1 : Building Decision Tree "
   ]
  },
  {
   "cell_type": "code",
   "execution_count": 9,
   "metadata": {
    "collapsed": true
   },
   "outputs": [],
   "source": [
    "import sys\n",
    "import math\n",
    "import pandas as pd\n",
    "import matplotlib.pyplot as plt\n",
    "from matplotlib.ticker import MaxNLocator"
   ]
  },
  {
   "cell_type": "code",
   "execution_count": 10,
   "metadata": {
    "collapsed": true
   },
   "outputs": [],
   "source": [
    "class node(object):\n",
    "    def __init__(self, attribute , threshold, parent):\n",
    "        self.attr = attribute\n",
    "        self.thres = threshold\n",
    "        self.left = None\n",
    "        self.right = None\n",
    "        self.leaf = False\n",
    "        self.predict = None\n",
    "        self.parent = parent\n",
    "        self.level = 0"
   ]
  },
  {
   "cell_type": "code",
   "execution_count": 22,
   "metadata": {
    "collapsed": false
   },
   "outputs": [],
   "source": [
    "class DecisionTree():\n",
    "    def __init__(self ,train_data , predict_attr , attributes =  None ,node_count = 0,  depth = 7, method = 'entropy' ):\n",
    "        # node_count is given preference over depth\n",
    "        \n",
    "        if attributes == None :\n",
    "            attr = list(train_data.columns)\n",
    "        else :\n",
    "            attr = attributes\n",
    "          \n",
    "        if predict_attr in attr:\n",
    "            attr.remove(predict_attr)\n",
    "            \n",
    "        if node_count != 0 :\n",
    "            depth = math.ceil(math.log(node_count + 1 , 2))\n",
    "            \n",
    "        root = self.build_tree(train_data, attr, predict_attr , depth = depth, method = method)\n",
    "        self.root = root\n",
    "        self.depth = depth\n",
    "    \n",
    "    def num_elements(self , df,predict_attr):\n",
    "        return df[df[predict_attr] == 1].shape[0] , df[df[predict_attr] == 0].shape[0]\n",
    "        \n",
    "    \n",
    "    def ulist(self,df,  attr) :\n",
    "        lis = df[attr].tolist()\n",
    "        lis.sort()\n",
    "        lis = set(lis)\n",
    "        lis = list(lis)\n",
    "        lis = [float(x) for x in lis]\n",
    "        return lis\n",
    "        \n",
    "    \n",
    "    def info_entropy(self , df, predict_attr): \n",
    "        p ,n =  self.num_elements(df, predict_attr)\n",
    "        p = float(p)\n",
    "        n=  float(n)\n",
    "        if p == 0 or n == 0 :\n",
    "            return 0  \n",
    "        pos_prob = (p)/(p+n)\n",
    "        neg_prob = (n)/(p+n)\n",
    "        return (-1*pos_prob)*math.log(pos_prob, 2) + (-1*neg_prob)*math.log(neg_prob, 2)\n",
    "        \n",
    "    \n",
    "    def info_gain(self, df, attribute, predict_attr, threshold):\n",
    "        sub1 = df[df[attribute] <= threshold]\n",
    "        sub2 = df[df[attribute] > threshold]\n",
    "        num_data = float(df.shape[0])\n",
    "        return self.info_entropy(df, predict_attr) -  float(float(sub1.shape[0])/num_data)*self.info_entropy(sub1, predict_attr) - float(float(sub2.shape[0])/num_data)*self.info_entropy(sub2, predict_attr) \n",
    "\n",
    "\n",
    "    def choose_attr(self, df,attributes,predict_attr):\n",
    "        max_info_gain = float(\"-inf\")\n",
    "        best_attr = None\n",
    "        threshold = 0\n",
    "        for i in range(0, len(attributes)):\n",
    "            attr = attributes[i]\n",
    "            thres ,  ig = self.select_threshold(df,attr,predict_attr)\n",
    "            if ig <= max_info_gain:continue\n",
    "            elif ig > max_info_gain:\n",
    "                max_info_gain = ig\n",
    "                best_attr = attr\n",
    "                threshold  = thres\n",
    "        return best_attr , threshold\n",
    "    \n",
    "    def select_threshold(self, df, attribute , predict_attr):\n",
    "        values = self.ulist(df,attribute)    \n",
    "        max_ig = float(\"-inf\")\n",
    "        thres_val = 0 \n",
    "        for i in range(0, len(values)-1):\n",
    "            ig = self.info_gain(df, attribute, predict_attr,  (values[i] + values[i+1])/2)\n",
    "            if ig <= max_ig:continue\n",
    "            else:\n",
    "                max_ig = ig\n",
    "                thres_val = (values[i] + values[i+1])/2\n",
    "        return thres_val , max_ig\n",
    "        \n",
    "    def choose_attr_misclassification(self ,df,attributes,predict_attr):\n",
    "        min_gv = float(\"inf\")\n",
    "        best_attr = None\n",
    "        threshold = 0\n",
    "        for i  in range(0, len(attributes)):\n",
    "            attr = attributes[i]\n",
    "            thres, gv = self.select_threshold_misclassification(df,attr,predict_attr)\n",
    "            if gv >= min_gv: continue\n",
    "            elif gv < min_gv:\n",
    "                min_gv = gv\n",
    "                best_attr = attr\n",
    "                threshold  = thres\n",
    "        if gv != 0 : return best_attr , threshold\n",
    "        return best_attr , -1\n",
    "    \n",
    "    def select_threshold_misclassification(self,df, attribute , predict_attr):\n",
    "        values = self.ulist(df, attribute)\n",
    "        min_gv = float(\"inf\")\n",
    "        thres_val = 0 \n",
    "        for i in range(0, len(values)-1):\n",
    "            gv = self.misclassification_val_avg(df, attribute, predict_attr,  (values[i] + values[i+1])/2)\n",
    "            if gv >= min_gv : continue\n",
    "            else :\n",
    "                min_gv = gv\n",
    "                thres_val = (values[i] + values[i+1])/2\n",
    "        return thres_val , min_gv\n",
    "    \n",
    "    def misclassification_val_avg(self ,df, attribute, predict_attr, threshold):\n",
    "        sub1 = df[df[attribute] <= threshold]\n",
    "        sub2 = df[df[attribute] > threshold]\n",
    "\n",
    "        total= float(df.shape[0])\n",
    "    \n",
    "        p_d1 = sub1[sub1[predict_attr] == 1]\n",
    "        n_d1 = sub1[sub1[predict_attr] == 0]\n",
    "        p1 = float(p_d1.shape[0])/sub1.shape[0]\n",
    "        n1 =  float(n_d1.shape[0])/sub1.shape[0]\n",
    "        me1 = min(p1,n1)\n",
    "    \n",
    "     \n",
    "        p_d2 = sub2[sub2[predict_attr] == 1]\n",
    "        n_d2 = sub2[sub2[predict_attr] == 0]\n",
    "        p2 = float(p_d2.shape[0])/sub2.shape[0]\n",
    "        n2 =  float(n_d2.shape[0])/sub2.shape[0]\n",
    "        me2 = min(p2,n2)\n",
    "    \n",
    "        return (sub1.shape[0]/total)*me1 + (sub2.shape[0]/total)*me2\n",
    "    \n",
    "    def choose_attr_gini(self, df,attributes,predict_attr):\n",
    "        min_gv = float(\"inf\")\n",
    "        best_attr = None\n",
    "        threshold = 0\n",
    "        for i in range(0, len(attributes)):\n",
    "            attr = attributes[i]\n",
    "            thres, gv = self.select_threshold_gini(df,attr,predict_attr)\n",
    "            if gv < min_gv:\n",
    "                min_gv = gv\n",
    "                best_attr = attr\n",
    "                threshold  = thres\n",
    "#     print(\"info gain \" + str(ig))\n",
    "        if gv == 0 : return best_attr , -1\n",
    "        return best_attr , threshold\n",
    "    \n",
    "    def select_threshold_gini(self ,df, attribute , predict_attr):\n",
    "        values = self.ulist(df,attribute)\n",
    "        min_gv = float(\"inf\")\n",
    "        thres_val = 0 \n",
    "        for i in range(0, len(values)-1):\n",
    "            gv = self.gini_val_avg(df, attribute, predict_attr, (values[i] + values[i+1])/2)\n",
    "            if gv >= min_gv : continue\n",
    "            else : \n",
    "                min_gv = gv\n",
    "                thres_val = (values[i] + values[i+1])/2\n",
    "        return thres_val , min_gv\n",
    "    \n",
    "    def gini_val_avg(self ,df, attribute, predict_attr, threshold):\n",
    "        sub1 = df[df[attribute] <= threshold]\n",
    "        sub2 = df[df[attribute] > threshold]\n",
    "\n",
    "        total= float(df.shape[0])\n",
    "    \n",
    "        p_d1 = sub1[sub1[predict_attr] == 1]\n",
    "        n_d1 = sub1[sub1[predict_attr] == 0]\n",
    "        p1 = float(p_d1.shape[0])/sub1.shape[0]\n",
    "        n1 =  float(n_d1.shape[0])/sub1.shape[0]\n",
    "        gv1 = 1 - p1*p1 - n1*n1\n",
    "    \n",
    "     \n",
    "        p_d2 = sub2[sub2[predict_attr] == 1]\n",
    "        n_d2 = sub2[sub2[predict_attr] == 0]\n",
    "        p2 = float(p_d2.shape[0])/sub2.shape[0]\n",
    "        n2 =  float(n_d2.shape[0])/sub2.shape[0]\n",
    "        gv2 = 1 - p2*p2 - n2*n2\n",
    "    \n",
    "        return (sub1.shape[0]/total)*gv1 + (sub2.shape[0]/total)*gv2\n",
    "    \n",
    "    def build_leaf(self, parent , level , predict):\n",
    "        new_leaf = node(None, None,parent)\n",
    "        new_leaf.leaf = True\n",
    "        new_leaf.predict = predict\n",
    "        new_leaf.level = level + 1\n",
    "        return new_leaf\n",
    "    \n",
    "    def build_tree(self ,df,cols,predict_attr, parent = None , level = 0, depth = 20, method = 'entropy'):   \n",
    "    \n",
    "        p,n = self.num_elements(df, predict_attr)\n",
    "    \n",
    "        if  p  == 0 or n == 0 or level == depth :\n",
    "            if p > n :\n",
    "                return self.build_leaf(parent , level , 1)\n",
    "            else :\n",
    "                return self.build_leaf(parent, level, 0 )\n",
    "\n",
    "        else:\n",
    "\n",
    "            if method == 'entropy':\n",
    "                best_attr , threshold = self.choose_attr(df,cols,predict_attr)\n",
    "            elif method == 'gini' :\n",
    "                best_attr , threshold = self.choose_attr_gini(df,cols,predict_attr)\n",
    "            else :\n",
    "                best_attr , threshold = self.choose_attr_misclassification(df,cols,predict_attr)\n",
    "            \n",
    "        \n",
    "            if threshold == -1 or threshold == 0:\n",
    "                if p > n :\n",
    "                    return self.build_leaf(parent , level , 1)\n",
    "                else :\n",
    "                    return self.build_leaf(parent, level, 0 )\n",
    "\n",
    "#             print(best_attr + \" \" + str(threshold))\n",
    "\n",
    "            tree = node(best_attr , threshold , parent)\n",
    "            tree.level = level + 1\n",
    "        \n",
    "            sub1 = df[df[best_attr] <= threshold]\n",
    "            tree.left = self.build_tree(sub1 , cols , predict_attr , tree , tree.level , depth, method)\n",
    "\n",
    "        \n",
    "            sub2 = df[df[best_attr] > threshold]        \n",
    "            tree.right = self.build_tree(sub2 , cols , predict_attr, tree, tree.level, depth, method)\n",
    "            return tree\n",
    "        \n",
    "    def validate_tree(self,root,df):\n",
    "        total = df.shape[0]\n",
    "        correct = float(0)\n",
    "        for index,row in df.iterrows():\n",
    "            prediction = predict(root, row)\n",
    "            if prediction == row['left']:\n",
    "                correct += 1\n",
    "        return correct/total\n",
    "    \n",
    "    def prune_tree(self, root , cnode ,dataset , best_score):\n",
    "        if cnode.leaf == True:\n",
    "            prediction = cnode.predict\n",
    "            cnode.parent.leaf = True\n",
    "            cnode.parent.predict = cnode.predict\n",
    "            new_score = self.validate_tree(root, dataset)\n",
    "            if new_score >= best_score :\n",
    "                return new_score\n",
    "            else:\n",
    "                cnode.parent.leaf = False\n",
    "                cnode.parent.predict = None\n",
    "                return best_score\n",
    "        else:\n",
    "            new_score  = self.prune_tree(root,  cnode.left , dataset , best_score)\n",
    "            if (cnode.leaf  == True):\n",
    "                return new_score\n",
    "            new_score = self.prune_tree(root, cnode.right, dataset,new_score)\n",
    "            if cnode.leaf == True:\n",
    "                return new_score\n",
    "            return new_score\n",
    "        \n",
    "        \n",
    "    def predict(self, node, row_df):\n",
    "        if node.leaf:\n",
    "            return node.predict\n",
    "        if row_df[node.attr] <= node.thres:\n",
    "            return self.predict(node.left, row_df)\n",
    "        elif row_df[node.attr] > node.thres:\n",
    "            return self.predict(node.right, row_df)\n",
    "\n",
    "   \n",
    "        "
   ]
  },
  {
   "cell_type": "code",
   "execution_count": 4,
   "metadata": {
    "collapsed": true
   },
   "outputs": [],
   "source": [
    "def encoder(df):\n",
    "    for col in df.columns:\n",
    "        if df[col].dtype == 'object':\n",
    "            labels = df[col].astype('category').cat.categories.tolist()\n",
    "            replace_map_comp = {col : {k: v for k,v in zip(labels,list(range(0,len(labels))))}}\n",
    "            df.replace(replace_map_comp, inplace=True)\n",
    "            df[col].astype('float')\n",
    "    return df"
   ]
  },
  {
   "cell_type": "code",
   "execution_count": 5,
   "metadata": {
    "collapsed": true
   },
   "outputs": [],
   "source": [
    "def import_data(filename) :\n",
    "    balance_data = pd.read_csv( filename ,  sep= ',')\n",
    "    attrq = list(balance_data)\n",
    "    balance_data = encoder(balance_data)\n",
    "    balance_data = balance_data.sample(frac=1).reset_index(drop=True)\n",
    "\n",
    "\n",
    "    train_data = balance_data.iloc[:10000,:]\n",
    "#     test_data = balance_data.iloc[9001:11000,:]\n",
    "    validation_data = balance_data.iloc[10001:,:]\n",
    "    train_data.columns = attrq\n",
    "#     test_data.columns = attrq\n",
    "    validation_data.columns = attrq\n",
    "    return train_data , validation_data "
   ]
  },
  {
   "cell_type": "code",
   "execution_count": 6,
   "metadata": {
    "collapsed": true
   },
   "outputs": [],
   "source": [
    "def import_test_data(filename) :\n",
    "    balance_data = pd.read_csv( filename ,  sep= ',')\n",
    "    attrq = list(balance_data)\n",
    "    balance_data = encoder(balance_data)\n",
    "    balance_data = balance_data.sample(frac=1).reset_index(drop=True)\n",
    "    return balance_data"
   ]
  },
  {
   "cell_type": "code",
   "execution_count": 7,
   "metadata": {
    "collapsed": true
   },
   "outputs": [],
   "source": [
    "def test_predictions(model, df):\n",
    "    num_data = df.shape[0]\n",
    "    num_correct = float(0)\n",
    "    tp = float(0) \n",
    "    tn = float(0) \n",
    "    fp = float(0.0001) \n",
    "    fn = float(0.0001)\n",
    "    for index,row in df.iterrows():\n",
    "        prediction = model.predict(model.root, row)\n",
    "        if prediction == 1 :\n",
    "            if row['left'] == 1 :tp += 1\n",
    "            else: fp += 1\n",
    "        else:\n",
    "            if row['left'] == 0 :tn += 1\n",
    "            else: fn += 1\n",
    "        if prediction == row['left']:\n",
    "            num_correct += 1\n",
    "    precision = tp/(tp+fp)\n",
    "    recall = tp/(tp + fn)\n",
    "    print(\"true positive \"+ str(int(tp)))\n",
    "    print(\"true negative \"+ str(int(tn)))\n",
    "    print(\"false positive \" + str(int(fp)))\n",
    "    print(\"false negative \" + str(int(fn)))\n",
    "    print(\"accuracy is \" + str(100*num_correct/num_data)+ \"%\")\n",
    "    print(\"precision is \" + str(precision))\n",
    "    print(\"recall is \" + str(recall))\n",
    "    print(\"F1 score \" + str(2*precision*recall/(precision + recall+0.0001)))\n",
    "    return num_correct/num_data\n"
   ]
  },
  {
   "cell_type": "markdown",
   "metadata": {},
   "source": [
    "# Part-1 "
   ]
  },
  {
   "cell_type": "markdown",
   "metadata": {},
   "source": [
    "#### training Decision tree on categorical features"
   ]
  },
  {
   "cell_type": "code",
   "execution_count": 29,
   "metadata": {
    "collapsed": false,
    "scrolled": true
   },
   "outputs": [],
   "source": [
    "train_data ,  val_data = import_data('train.csv')\n",
    "attrs = [ \"Work_accident\",   \"promotion_last_5years\" , \"sales\" , \"salary\"]\n",
    "model = DecisionTree(train_data,'left',attrs , depth = 4 , method = 'entropy')"
   ]
  },
  {
   "cell_type": "code",
   "execution_count": 30,
   "metadata": {
    "collapsed": false,
    "scrolled": true
   },
   "outputs": [
    {
     "name": "stdout",
     "output_type": "stream",
     "text": [
      "true positive 0\n",
      "true negative 936\n",
      "false positive 0\n",
      "false negative 301\n",
      "accuracy is 75.6669361358%\n",
      "precision is 0.0\n",
      "recall is 0.0\n",
      "F1 score 0.0\n"
     ]
    },
    {
     "data": {
      "text/plain": [
       "0.7566693613581245"
      ]
     },
     "execution_count": 30,
     "metadata": {},
     "output_type": "execute_result"
    }
   ],
   "source": [
    "test_data = import_test_data('train.csv')\n",
    "test_predictions(model,val_data)"
   ]
  },
  {
   "cell_type": "markdown",
   "metadata": {},
   "source": [
    "# Part-2 "
   ]
  },
  {
   "cell_type": "markdown",
   "metadata": {},
   "source": [
    "#### Training Decision Tree on complete set of attributes "
   ]
  },
  {
   "cell_type": "code",
   "execution_count": 31,
   "metadata": {
    "collapsed": false,
    "scrolled": true
   },
   "outputs": [],
   "source": [
    "train_data , val_data = import_data('train.csv')\n",
    "model = DecisionTree(train_data,'left',  depth = 4 , method = 'entropy')"
   ]
  },
  {
   "cell_type": "code",
   "execution_count": 32,
   "metadata": {
    "collapsed": false
   },
   "outputs": [
    {
     "name": "stdout",
     "output_type": "stream",
     "text": [
      "true positive 275\n",
      "true negative 926\n",
      "false positive 19\n",
      "false negative 17\n",
      "accuracy is 97.0897332255%\n",
      "precision is 0.935373831505\n",
      "recall is 0.94178049939\n",
      "F1 score 0.938516235817\n"
     ]
    },
    {
     "data": {
      "text/plain": [
       "0.9708973322554567"
      ]
     },
     "execution_count": 32,
     "metadata": {},
     "output_type": "execute_result"
    }
   ],
   "source": [
    "# test_data = import_test_data('train.csv')\n",
    "test_predictions(model,val_data)"
   ]
  },
  {
   "cell_type": "markdown",
   "metadata": {},
   "source": [
    "# Part-3 "
   ]
  },
  {
   "cell_type": "markdown",
   "metadata": {},
   "source": [
    "### using entropy method"
   ]
  },
  {
   "cell_type": "code",
   "execution_count": 241,
   "metadata": {
    "collapsed": false,
    "scrolled": true
   },
   "outputs": [
    {
     "name": "stdout",
     "output_type": "stream",
     "text": [
      "true positive 276\n",
      "true negative 921\n",
      "false positive 14\n",
      "false negative 26\n",
      "accuracy is 96.7663702506%\n",
      "precision is 0.95172380975\n",
      "recall is 0.91390698215\n",
      "F1 score 0.932382140645\n"
     ]
    },
    {
     "data": {
      "text/plain": [
       "0.967663702506063"
      ]
     },
     "execution_count": 241,
     "metadata": {},
     "output_type": "execute_result"
    }
   ],
   "source": [
    "train_data ,  val_data = import_data('train.csv')\n",
    "model = DecisionTree(train_data,'left',  depth = 4 , method = 'entropy')\n",
    "test_predictions(model,val_data)"
   ]
  },
  {
   "cell_type": "markdown",
   "metadata": {},
   "source": [
    "### using missclassification error "
   ]
  },
  {
   "cell_type": "code",
   "execution_count": 242,
   "metadata": {
    "collapsed": false,
    "scrolled": true
   },
   "outputs": [
    {
     "name": "stdout",
     "output_type": "stream",
     "text": [
      "true positive 204\n",
      "true negative 927\n",
      "false positive 11\n",
      "false negative 95\n",
      "accuracy is 91.4308811641%\n",
      "precision is 0.948836767983\n",
      "recall is 0.682274019306\n",
      "F1 score 0.793725348559\n"
     ]
    },
    {
     "data": {
      "text/plain": [
       "0.9143088116410671"
      ]
     },
     "execution_count": 242,
     "metadata": {},
     "output_type": "execute_result"
    }
   ],
   "source": [
    "train_data , val_data = import_data('train.csv')\n",
    "model = DecisionTree(train_data,'left',  depth = 4 , method = 'miss')\n",
    "test_predictions(model,val_data)"
   ]
  },
  {
   "cell_type": "markdown",
   "metadata": {},
   "source": [
    "### using gini index "
   ]
  },
  {
   "cell_type": "code",
   "execution_count": 243,
   "metadata": {
    "collapsed": false,
    "scrolled": true
   },
   "outputs": [
    {
     "name": "stdout",
     "output_type": "stream",
     "text": [
      "true positive 270\n",
      "true negative 930\n",
      "false positive 10\n",
      "false negative 27\n",
      "accuracy is 97.0088924818%\n",
      "precision is 0.964285369898\n",
      "recall is 0.909090603\n",
      "F1 score 0.935824938314\n"
     ]
    },
    {
     "data": {
      "text/plain": [
       "0.9700889248181084"
      ]
     },
     "execution_count": 243,
     "metadata": {},
     "output_type": "execute_result"
    }
   ],
   "source": [
    "train_data ,val_data = import_data('train.csv')\n",
    "model = DecisionTree(train_data,'left',  depth = 4 , method = 'gini')\n",
    "test_predictions(model,val_data)"
   ]
  },
  {
   "cell_type": "markdown",
   "metadata": {},
   "source": [
    "#  Part-4"
   ]
  },
  {
   "cell_type": "markdown",
   "metadata": {},
   "source": [
    "### 1. graph visualization for satisfaction_level and number of  project "
   ]
  },
  {
   "cell_type": "code",
   "execution_count": 196,
   "metadata": {
    "collapsed": false
   },
   "outputs": [
    {
     "data": {
      "image/png": "[encoded data removed]",
      "text/plain": [
       "<Figure size 1080x576 with 1 Axes>"
      ]
     },
     "metadata": {},
     "output_type": "display_data"
    }
   ],
   "source": [
    "%matplotlib inline\n",
    "train_data , validation_data  = import_data('train.csv')\n",
    "\n",
    "balance_data = pd.concat([train_data , validation_data ])\n",
    "p_data = balance_data[balance_data['left'] == 1]\n",
    "n_data = balance_data[balance_data['left'] == 0]\n",
    "\n",
    "ax = plt.gca()\n",
    "\n",
    "plot = n_data.plot.scatter(y=\"number_project\" , x= \"satisfaction_level\", ax=ax, figsize=(15,8) , label = 'prediction : did\\'nt left the company')\n",
    "plot1 = p_data.plot.scatter(y=\"number_project\" , x= \"satisfaction_level\" ,marker ='o', color = 'red' ,ax =ax, figsize=(15,8), label = 'prediction : left the company' , title= 'visualization of boundary in decision tree')\n",
    "\n",
    "# fig = plot1.get_figure()\n",
    "# fig.savefig('visualization2.png')\n",
    "# fig.show()"
   ]
  },
  {
   "cell_type": "markdown",
   "metadata": {},
   "source": [
    "### graph visualization for average monthly hours and number of project "
   ]
  },
  {
   "cell_type": "code",
   "execution_count": 197,
   "metadata": {
    "collapsed": false
   },
   "outputs": [
    {
     "data": {
      "image/png": "[encoded data removed]",
      "text/plain": [
       "<Figure size 1080x576 with 1 Axes>"
      ]
     },
     "metadata": {},
     "output_type": "display_data"
    }
   ],
   "source": [
    "%matplotlib inline\n",
    "train_data , validation_data  = import_data('train.csv')\n",
    "\n",
    "balance_data = pd.concat([train_data , validation_data ])\n",
    "\n",
    "p_data = balance_data[balance_data['left'] == 1]\n",
    "n_data = balance_data[balance_data['left'] == 0]\n",
    "\n",
    "ax = plt.gca()\n",
    "\n",
    "plot = n_data.plot.scatter(y=\"number_project\" , x= \"average_montly_hours\", ax=ax, figsize=(15,8) , label = 'prediction : did\\'nt left the company')\n",
    "plot1 = p_data.plot.scatter(y=\"number_project\" ,x= \"average_montly_hours\" ,marker ='o', color = 'red' ,ax =ax, figsize=(15,8), label = 'prediction : left the company' , title= 'visualization of boundary in decision tree')"
   ]
  },
  {
   "cell_type": "markdown",
   "metadata": {},
   "source": [
    "# part-5 "
   ]
  },
  {
   "cell_type": "markdown",
   "metadata": {},
   "source": [
    "### depth vs error plot "
   ]
  },
  {
   "cell_type": "code",
   "execution_count": 198,
   "metadata": {
    "collapsed": true
   },
   "outputs": [],
   "source": [
    "def depth_vs_error(filename , length = 7):\n",
    "    train_data , validate_data = import_data(filename)\n",
    "    depth_arr = []\n",
    "    train_err = []\n",
    "    validate_err = []\n",
    "    for depth in range(1, length):\n",
    "        print(\"=========training on depth : \" + str(depth)+\"=================\")\n",
    "        model  = DecisionTree(train_data,'left', depth = depth , method = 'entropy')\n",
    "        print(\"=========================== on train error ===============================\")\n",
    "        train_error = 1 - test_predictions(model , train_data) \n",
    "        print(\"=========================== on validate error ===============================\")\n",
    "        validate_error = 1  - test_predictions(model, validate_data)\n",
    "        depth_arr.append(depth)\n",
    "        train_err.append(train_error)\n",
    "        validate_err.append(validate_error)\n",
    "    return depth_arr,train_err,validate_err\n",
    "        "
   ]
  },
  {
   "cell_type": "code",
   "execution_count": 87,
   "metadata": {
    "collapsed": false,
    "scrolled": true
   },
   "outputs": [
    {
     "name": "stdout",
     "output_type": "stream",
     "text": [
      "=========training on depth : 1=================\n",
      "=========================== on train error ===============================\n",
      "true positive 1512\n",
      "true negative 5880\n",
      "false positive 991\n",
      "false negative 617\n",
      "accuracy is 82.1333333333%\n",
      "precision is 0.604075085734\n",
      "recall is 0.710192545317\n",
      "F1 score 0.652800042492\n",
      "=========================== on validate error ===============================\n",
      "true positive 342\n",
      "true negative 1287\n",
      "false positive 229\n",
      "false negative 141\n",
      "accuracy is 81.4907453727%\n",
      "precision is 0.598949107014\n",
      "recall is 0.708074387562\n",
      "F1 score 0.648906585934\n",
      "=========training on depth : 2=================\n",
      "=========================== on train error ===============================\n",
      "true positive 923\n",
      "true negative 6754\n",
      "false positive 117\n",
      "false negative 1206\n",
      "accuracy is 85.3%\n",
      "precision is 0.887499914663\n",
      "recall is 0.433536851407\n",
      "F1 score 0.582474015573\n",
      "=========================== on validate error ===============================\n",
      "true positive 205\n",
      "true negative 1484\n",
      "false positive 32\n",
      "false negative 278\n",
      "accuracy is 84.4922461231%\n",
      "precision is 0.864978537984\n",
      "recall is 0.424430553948\n",
      "F1 score 0.569400126493\n",
      "=========training on depth : 3=================\n",
      "=========================== on train error ===============================\n",
      "true positive 1967\n",
      "true negative 6614\n",
      "false positive 257\n",
      "false negative 162\n",
      "accuracy is 95.3444444444%\n",
      "precision is 0.884442406275\n",
      "recall is 0.923907894603\n",
      "F1 score 0.903694529048\n",
      "=========================== on validate error ===============================\n",
      "true positive 444\n",
      "true negative 1440\n",
      "false positive 76\n",
      "false negative 39\n",
      "accuracy is 94.2471235618%\n",
      "precision is 0.853845989645\n",
      "recall is 0.919254468063\n",
      "F1 score 0.885293862414\n",
      "=========training on depth : 4=================\n",
      "=========================== on train error ===============================\n",
      "true positive 1966\n",
      "true negative 6764\n",
      "false positive 107\n",
      "false negative 163\n",
      "accuracy is 97.0%\n",
      "precision is 0.948383938814\n",
      "recall is 0.923438190538\n",
      "F1 score 0.935694850402\n",
      "=========================== on validate error ===============================\n",
      "true positive 444\n",
      "true negative 1483\n",
      "false positive 33\n",
      "false negative 39\n",
      "accuracy is 96.3981990995%\n",
      "precision is 0.930817414923\n",
      "recall is 0.919254468063\n",
      "F1 score 0.924949811947\n",
      "=========training on depth : 5=================\n",
      "=========================== on train error ===============================\n",
      "true positive 1958\n",
      "true negative 6816\n",
      "false positive 55\n",
      "false negative 171\n",
      "accuracy is 97.4888888889%\n",
      "precision is 0.972677547309\n",
      "recall is 0.919680558023\n",
      "F1 score 0.945386983168\n",
      "=========================== on validate error ===============================\n",
      "true positive 442\n",
      "true negative 1500\n",
      "false positive 16\n",
      "false negative 41\n",
      "accuracy is 97.1485742871%\n",
      "precision is 0.96506529147\n",
      "recall is 0.915113682171\n",
      "F1 score 0.939375980685\n",
      "=========training on depth : 6=================\n",
      "=========================== on train error ===============================\n",
      "true positive 1976\n",
      "true negative 6833\n",
      "false positive 38\n",
      "false negative 153\n",
      "accuracy is 97.8777777778%\n",
      "precision is 0.981132026756\n",
      "recall is 0.928135231182\n",
      "F1 score 0.953848136536\n",
      "=========================== on validate error ===============================\n",
      "true positive 444\n",
      "true negative 1508\n",
      "false positive 8\n",
      "false negative 39\n",
      "accuracy is 97.6488244122%\n",
      "precision is 0.982300667633\n",
      "recall is 0.919254468063\n",
      "F1 score 0.949682474759\n",
      "=========training on depth : 7=================\n",
      "=========================== on train error ===============================\n",
      "true positive 1981\n",
      "true negative 6849\n",
      "false positive 22\n",
      "false negative 148\n",
      "accuracy is 98.1111111111%\n",
      "precision is 0.98901642591\n",
      "recall is 0.930483751504\n",
      "F1 score 0.958807698715\n",
      "=========================== on validate error ===============================\n",
      "true positive 445\n",
      "true negative 1510\n",
      "false positive 6\n",
      "false negative 38\n",
      "accuracy is 97.7988994497%\n",
      "precision is 0.986696011819\n",
      "recall is 0.921324861009\n",
      "F1 score 0.952840649555\n",
      "=========training on depth : 8=================\n",
      "=========================== on train error ===============================\n",
      "true positive 2002\n",
      "true negative 6848\n",
      "false positive 23\n",
      "false negative 127\n",
      "accuracy is 98.3333333333%\n",
      "precision is 0.988641926487\n",
      "recall is 0.940347536855\n",
      "F1 score 0.963840213811\n",
      "=========================== on validate error ===============================\n",
      "true positive 446\n",
      "true negative 1505\n",
      "false positive 11\n",
      "false negative 37\n",
      "accuracy is 97.5987993997%\n",
      "precision is 0.975929764567\n",
      "recall is 0.923395253955\n",
      "F1 score 0.948886009194\n",
      "=========training on depth : 9=================\n",
      "=========================== on train error ===============================\n",
      "true positive 2021\n",
      "true negative 6851\n",
      "false positive 20\n",
      "false negative 108\n",
      "accuracy is 98.5777777778%\n",
      "precision is 0.990200833405\n",
      "recall is 0.949271914078\n",
      "F1 score 0.969254534709\n",
      "=========================== on validate error ===============================\n",
      "true positive 447\n",
      "true negative 1509\n",
      "false positive 7\n",
      "false negative 36\n",
      "accuracy is 97.8489244622%\n",
      "precision is 0.984581280929\n",
      "recall is 0.925465646902\n",
      "F1 score 0.954058704916\n",
      "=========training on depth : 10=================\n",
      "=========================== on train error ===============================\n",
      "true positive 2029\n",
      "true negative 6857\n",
      "false positive 14\n",
      "false negative 100\n",
      "accuracy is 98.7333333333%\n",
      "precision is 0.993147283742\n",
      "recall is 0.953029546593\n",
      "F1 score 0.972624953216\n",
      "=========================== on validate error ===============================\n",
      "true positive 447\n",
      "true negative 1506\n",
      "false positive 10\n",
      "false negative 36\n",
      "accuracy is 97.6988494247%\n",
      "precision is 0.978117947895\n",
      "recall is 0.925465646902\n",
      "F1 score 0.95101366831\n",
      "=========training on depth : 11=================\n",
      "=========================== on train error ===============================\n",
      "true positive 2039\n",
      "true negative 6858\n",
      "false positive 13\n",
      "false negative 90\n",
      "accuracy is 98.8555555556%\n",
      "precision is 0.993664668925\n",
      "recall is 0.957726587237\n",
      "F1 score 0.975314718139\n",
      "=========================== on validate error ===============================\n",
      "true positive 446\n",
      "true negative 1509\n",
      "false positive 7\n",
      "false negative 37\n",
      "accuracy is 97.7988994497%\n",
      "precision is 0.984547244029\n",
      "recall is 0.923395253955\n",
      "F1 score 0.952941303343\n",
      "=========training on depth : 12=================\n",
      "=========================== on train error ===============================\n",
      "true positive 2063\n",
      "true negative 6858\n",
      "false positive 13\n",
      "false negative 66\n",
      "accuracy is 99.1222222222%\n",
      "precision is 0.993737909743\n",
      "recall is 0.968999484782\n",
      "F1 score 0.981162805676\n",
      "=========================== on validate error ===============================\n",
      "true positive 452\n",
      "true negative 1506\n",
      "false positive 10\n",
      "false negative 31\n",
      "accuracy is 97.9489744872%\n",
      "precision is 0.97835476659\n",
      "recall is 0.935817611632\n",
      "F1 score 0.956563581458\n",
      "=========training on depth : 13=================\n",
      "=========================== on train error ===============================\n",
      "true positive 2067\n",
      "true negative 6863\n",
      "false positive 8\n",
      "false negative 62\n",
      "accuracy is 99.2222222222%\n",
      "precision is 0.996144530306\n",
      "recall is 0.970878301039\n",
      "F1 score 0.983299155256\n",
      "=========================== on validate error ===============================\n",
      "true positive 451\n",
      "true negative 1506\n",
      "false positive 10\n",
      "false negative 32\n",
      "accuracy is 97.8989494747%\n",
      "precision is 0.978307813816\n",
      "recall is 0.933747218686\n",
      "F1 score 0.955458301908\n",
      "=========training on depth : 14=================\n",
      "=========================== on train error ===============================\n",
      "true positive 2082\n",
      "true negative 6861\n",
      "false positive 10\n",
      "false negative 47\n",
      "accuracy is 99.3666666667%\n",
      "precision is 0.995219837705\n",
      "recall is 0.977923862005\n",
      "F1 score 0.986446050607\n",
      "=========================== on validate error ===============================\n",
      "true positive 453\n",
      "true negative 1502\n",
      "false positive 14\n",
      "false negative 30\n",
      "accuracy is 97.7988994497%\n",
      "precision is 0.970021205563\n",
      "recall is 0.937888004578\n",
      "F1 score 0.953634026553\n",
      "=========training on depth : 15=================\n",
      "=========================== on train error ===============================\n",
      "true positive 2092\n",
      "true negative 6866\n",
      "false positive 5\n",
      "false negative 37\n",
      "accuracy is 99.5333333333%\n",
      "precision is 0.997615593819\n",
      "recall is 0.982620902648\n",
      "F1 score 0.990011482436\n",
      "=========================== on validate error ===============================\n",
      "true positive 453\n",
      "true negative 1500\n",
      "false positive 16\n",
      "false negative 30\n",
      "accuracy is 97.6988494247%\n",
      "precision is 0.965884655462\n",
      "recall is 0.937888004578\n",
      "F1 score 0.951630485775\n",
      "=========training on depth : 16=================\n",
      "=========================== on train error ===============================\n",
      "true positive 2102\n",
      "true negative 6867\n",
      "false positive 4\n",
      "false negative 27\n",
      "accuracy is 99.6555555556%\n",
      "precision is 0.998100617374\n",
      "recall is 0.987317943292\n",
      "F1 score 0.992630004339\n",
      "=========================== on validate error ===============================\n",
      "true positive 453\n",
      "true negative 1499\n",
      "false positive 17\n",
      "false negative 30\n",
      "accuracy is 97.6488244122%\n",
      "precision is 0.963829582164\n",
      "recall is 0.937888004578\n",
      "F1 score 0.950631869082\n",
      "=========training on depth : 17=================\n",
      "=========================== on train error ===============================\n",
      "true positive 2108\n",
      "true negative 6870\n",
      "false positive 1\n",
      "false negative 21\n",
      "accuracy is 99.7555555556%\n",
      "precision is 0.999525794238\n",
      "recall is 0.990136167678\n",
      "F1 score 0.994758828789\n",
      "=========================== on validate error ===============================\n",
      "true positive 453\n",
      "true negative 1500\n",
      "false positive 16\n",
      "false negative 30\n",
      "accuracy is 97.6988494247%\n",
      "precision is 0.965884655462\n",
      "recall is 0.937888004578\n",
      "F1 score 0.951630485775\n",
      "=========training on depth : 18=================\n",
      "=========================== on train error ===============================\n",
      "true positive 2118\n",
      "true negative 6870\n",
      "false positive 1\n",
      "false negative 11\n",
      "accuracy is 99.8666666667%\n",
      "precision is 0.999528032113\n",
      "recall is 0.994833208322\n",
      "F1 score 0.997125097079\n",
      "=========================== on validate error ===============================\n",
      "true positive 453\n",
      "true negative 1500\n",
      "false positive 16\n",
      "false negative 30\n",
      "accuracy is 97.6988494247%\n",
      "precision is 0.965884655462\n",
      "recall is 0.937888004578\n",
      "F1 score 0.951630485775\n",
      "=========training on depth : 19=================\n",
      "=========================== on train error ===============================\n",
      "true positive 2123\n",
      "true negative 6870\n",
      "false positive 1\n",
      "false negative 6\n",
      "accuracy is 99.9222222222%\n",
      "precision is 0.999529143148\n",
      "recall is 0.997181728643\n",
      "F1 score 0.998304058611\n",
      "=========================== on validate error ===============================\n",
      "true positive 454\n",
      "true negative 1500\n",
      "false positive 16\n",
      "false negative 29\n",
      "accuracy is 97.7488744372%\n",
      "precision is 0.965957241286\n",
      "recall is 0.939958397524\n",
      "F1 score 0.952730504523\n"
     ]
    }
   ],
   "source": [
    "depth_arr,train_err,validate_err =  depth_vs_error('train.csv' , 20)"
   ]
  },
  {
   "cell_type": "code",
   "execution_count": 199,
   "metadata": {
    "collapsed": false
   },
   "outputs": [
    {
     "data": {
      "image/png": "[encoded data removed]",
      "text/plain": [
       "<Figure size 1080x720 with 1 Axes>"
      ]
     },
     "metadata": {},
     "output_type": "display_data"
    }
   ],
   "source": [
    "%matplotlib inline\n",
    "plot = plt.figure(figsize = (15,10))\n",
    "# plt.plot(d_arr, train_err,  'o' , 'red')\n",
    "# plt.plot(d_arr, validate_err , '')\n",
    "ax = plot.gca()#         print(str(thres) + \" \" + str(ig))\n",
    "\n",
    "ax.xaxis.set_major_locator(MaxNLocator(integer=True))\n",
    "plt.plot(depth_arr, validate_err, 'go-', linewidth=1, markersize=5, label = 'validation set error')\n",
    "plt.plot(depth_arr, train_err, 'ro-', linewidth=1, markersize=5, label = 'training set error')\n",
    "plt.xlabel(\"depth of the decision tree\")\n",
    "plt.ylabel(\"error in prediction\")\n",
    "plt.legend(loc='upper right')\n",
    "plt.title(\"training and validation error w.r.t depth of decision tree\")\n",
    "plt.savefig(\"result.png\")"
   ]
  },
  {
   "cell_type": "markdown",
   "metadata": {},
   "source": [
    "#### Result : when depth exceeds a certain value the validation error starts increasing due to overfitting. "
   ]
  },
  {
   "cell_type": "markdown",
   "metadata": {},
   "source": [
    "### nodes vs error plot "
   ]
  },
  {
   "cell_type": "code",
   "execution_count": 232,
   "metadata": {
    "collapsed": true
   },
   "outputs": [],
   "source": [
    "def nodes_vs_error(filename , length = 7):\n",
    "    train_data , validate_data = import_data(filename)\n",
    "    node_arr = []\n",
    "    train_err = []\n",
    "    validate_err = []\n",
    "    for depth in range(1, length):\n",
    "        nodes = int(math.pow(2, depth))-1\n",
    "        print(\"=========training on nodes : \" + str(nodes)+\"=================\")\n",
    "        model  = DecisionTree(train_data,'left', node_count = nodes , method = 'entropy')\n",
    "        print(\"=========================== on train error ===============================\")\n",
    "        train_error = 1 - test_predictions(model , train_data) \n",
    "        print(\"=========================== on validate error ===============================\")\n",
    "        validate_error = 1  - test_predictions(model, validate_data)\n",
    "        node_arr.append(nodes)\n",
    "        train_err.append(train_error)\n",
    "        validate_err.append(validate_error)\n",
    "    return node_arr,train_err,validate_err\n",
    "        "
   ]
  },
  {
   "cell_type": "code",
   "execution_count": 233,
   "metadata": {
    "collapsed": false,
    "scrolled": true
   },
   "outputs": [
    {
     "name": "stdout",
     "output_type": "stream",
     "text": [
      "=========training on nodes : 1=================\n",
      "=========================== on train error ===============================\n",
      "true positive 1697\n",
      "true negative 6514\n",
      "false positive 1107\n",
      "false negative 682\n",
      "accuracy is 82.11%\n",
      "precision is 0.605206825777\n",
      "recall is 0.713324896455\n",
      "F1 score 0.654783422927\n",
      "=========================== on validate error ===============================\n",
      "true positive 201\n",
      "true negative 811\n",
      "false positive 130\n",
      "false negative 95\n",
      "accuracy is 81.8108326597%\n",
      "precision is 0.607250571828\n",
      "recall is 0.679053824644\n",
      "F1 score 0.641098280522\n",
      "=========training on nodes : 3=================\n",
      "=========================== on train error ===============================\n",
      "true positive 1023\n",
      "true negative 7487\n",
      "false positive 134\n",
      "false negative 1356\n",
      "accuracy is 85.1%\n",
      "precision is 0.884183156078\n",
      "recall is 0.430012592265\n",
      "F1 score 0.578575851686\n",
      "=========================== on validate error ===============================\n",
      "true positive 126\n",
      "true negative 925\n",
      "false positive 16\n",
      "false negative 170\n",
      "accuracy is 84.9636216653%\n",
      "precision is 0.887323318786\n",
      "recall is 0.425675531866\n",
      "F1 score 0.575298387435\n",
      "=========training on nodes : 7=================\n",
      "=========================== on train error ===============================\n",
      "true positive 2203\n",
      "true negative 7240\n",
      "false positive 381\n",
      "false negative 176\n",
      "accuracy is 94.43%\n",
      "precision is 0.852554146573\n",
      "recall is 0.926019296931\n",
      "F1 score 0.887719546596\n",
      "=========================== on validate error ===============================\n",
      "true positive 271\n",
      "true negative 889\n",
      "false positive 52\n",
      "false negative 25\n",
      "accuracy is 93.7752627324%\n",
      "precision is 0.839009028171\n",
      "recall is 0.915540231236\n",
      "F1 score 0.875555630896\n",
      "=========training on nodes : 15=================\n",
      "=========================== on train error ===============================\n",
      "true positive 2187\n",
      "true negative 7498\n",
      "false positive 123\n",
      "false negative 192\n",
      "accuracy is 96.85%\n",
      "precision is 0.946753205768\n",
      "recall is 0.919293782291\n",
      "F1 score 0.932771470839\n",
      "=========================== on validate error ===============================\n",
      "true positive 269\n",
      "true negative 930\n",
      "false positive 11\n",
      "false negative 27\n",
      "accuracy is 96.9280517381%\n",
      "precision is 0.960713942602\n",
      "recall is 0.908783476762\n",
      "F1 score 0.933977494715\n",
      "=========training on nodes : 31=================\n",
      "=========================== on train error ===============================\n",
      "true positive 2191\n",
      "true negative 7554\n",
      "false positive 67\n",
      "false negative 188\n",
      "accuracy is 97.45%\n",
      "precision is 0.970327680676\n",
      "recall is 0.920975160951\n",
      "F1 score 0.944957543912\n",
      "=========================== on validate error ===============================\n",
      "true positive 269\n",
      "true negative 935\n",
      "false positive 6\n",
      "false negative 27\n",
      "accuracy is 97.3322554568%\n",
      "precision is 0.978181462479\n",
      "recall is 0.908783476762\n",
      "F1 score 0.942156395247\n",
      "=========training on nodes : 63=================\n",
      "=========================== on train error ===============================\n",
      "true positive 2203\n",
      "true negative 7574\n",
      "false positive 47\n",
      "false negative 176\n",
      "accuracy is 97.77%\n",
      "precision is 0.979111067595\n",
      "recall is 0.926019296931\n",
      "F1 score 0.95177544859\n",
      "=========================== on validate error ===============================\n",
      "true positive 270\n",
      "true negative 934\n",
      "false positive 7\n",
      "false negative 26\n",
      "accuracy is 97.3322554568%\n",
      "precision is 0.97472888999\n",
      "recall is 0.912161853999\n",
      "F1 score 0.942358105647\n",
      "=========training on nodes : 127=================\n",
      "=========================== on train error ===============================\n",
      "true positive 2215\n",
      "true negative 7596\n",
      "false positive 25\n",
      "false negative 164\n",
      "accuracy is 98.11%\n",
      "precision is 0.98883924157\n",
      "recall is 0.93106343291\n",
      "F1 score 0.959032058746\n",
      "=========================== on validate error ===============================\n",
      "true positive 269\n",
      "true negative 938\n",
      "false positive 3\n",
      "false negative 27\n",
      "accuracy is 97.574777688%\n",
      "precision is 0.988970224643\n",
      "recall is 0.908783476762\n",
      "F1 score 0.947132856974\n",
      "=========training on nodes : 255=================\n",
      "=========================== on train error ===============================\n",
      "true positive 2221\n",
      "true negative 7604\n",
      "false positive 17\n",
      "false negative 158\n",
      "accuracy is 98.25%\n",
      "precision is 0.992403887739\n",
      "recall is 0.9335855009\n",
      "F1 score 0.962046607073\n",
      "=========================== on validate error ===============================\n",
      "true positive 270\n",
      "true negative 938\n",
      "false positive 3\n",
      "false negative 26\n",
      "accuracy is 97.6556184317%\n",
      "precision is 0.989010626736\n",
      "recall is 0.912161853999\n",
      "F1 score 0.948983142658\n",
      "=========training on nodes : 511=================\n",
      "=========================== on train error ===============================\n",
      "true positive 2253\n",
      "true negative 7590\n",
      "false positive 31\n",
      "false negative 126\n",
      "accuracy is 98.43%\n",
      "precision is 0.986427277302\n",
      "recall is 0.947036530179\n",
      "F1 score 0.966280670289\n",
      "=========================== on validate error ===============================\n",
      "true positive 273\n",
      "true negative 931\n",
      "false positive 10\n",
      "false negative 23\n",
      "accuracy is 97.3322554568%\n",
      "precision is 0.964663970083\n",
      "recall is 0.92229698571\n",
      "F1 score 0.942954883465\n"
     ]
    }
   ],
   "source": [
    "node_arr,train_err,validate_err = nodes_vs_error('train.csv', 10)"
   ]
  },
  {
   "cell_type": "code",
   "execution_count": 238,
   "metadata": {
    "collapsed": false
   },
   "outputs": [
    {
     "data": {
      "text/plain": [
       "Text(0.5,1,'training and validation error w.r.t depth of decision tree')"
      ]
     },
     "execution_count": 238,
     "metadata": {},
     "output_type": "execute_result"
    },
    {
     "data": {
      "image/png": "[encoded data removed]",
      "text/plain": [
       "<Figure size 1080x720 with 1 Axes>"
      ]
     },
     "metadata": {},
     "output_type": "display_data"
    }
   ],
   "source": [
    "%matplotlib inline\n",
    "plot = plt.figure(figsize = (15,10))\n",
    "# plt.plot(d_arr, train_err,  'o' , 'red')\n",
    "# plt.plot(d_arr, validate_err , '')\n",
    "ax = plot.gca()#         print(str(thres) + \" \" + str(ig))\n",
    "\n",
    "ax.xaxis.set_major_locator(MaxNLocator(integer=True))\n",
    "plt.plot(node_arr, validate_err, 'go-', linewidth=1, markersize=5, label = 'validation set error')\n",
    "plt.plot(node_arr, train_err, 'ro-', linewidth=1, markersize=5, label = 'training set error')\n",
    "plt.xlabel(\"nodes in the decision tree\")\n",
    "plt.ylabel(\"error in prediction\")\n",
    "plt.legend(loc='upper right')\n",
    "plt.title(\"training and validation error w.r.t depth of decision tree\")\n",
    "# plt.savefig(\"result.png\")"
   ]
  },
  {
   "cell_type": "markdown",
   "metadata": {},
   "source": [
    "# Part-6  "
   ]
  },
  {
   "cell_type": "markdown",
   "metadata": {},
   "source": [
    "### Handling missing values in test samples "
   ]
  },
  {
   "cell_type": "markdown",
   "metadata": {},
   "source": [
    "Following approaches can be used to distribute missing values instances:\n",
    "1. Mean Imputation : replace the value by the mean of observed values of the same variable.\n",
    "2. Hot Deck Imputation : A randomly chosen value from an individual in the sample who has similar values on other variables. In other words, find all the sample subjects who are similar on other variables, then randomly choose one of their values on the missing variable.\"\n",
    "3. predict missing value using regression strategy.\n",
    "4. In case of categorical data associate a branch for missing value and proceed on it.\n",
    "5. In case of numerical data associate the missing value with the branch that has least error."
   ]
  }
 ],
 "metadata": {
  "anaconda-cloud": {},
  "kernelspec": {
   "display_name": "Python [default]",
   "language": "python",
   "name": "python2"
  },
  "language_info": {
   "codemirror_mode": {
    "name": "ipython",
    "version": 2
   },
   "file_extension": ".py",
   "mimetype": "text/x-python",
   "name": "python",
   "nbconvert_exporter": "python",
   "pygments_lexer": "ipython2",
   "version": "2.7.12"
  }
 },
 "nbformat": 4,
 "nbformat_minor": 1
}
